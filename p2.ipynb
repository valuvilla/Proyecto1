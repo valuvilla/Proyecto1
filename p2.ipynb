{
 "cells": [
  {
   "cell_type": "code",
   "execution_count": 19,
   "metadata": {},
   "outputs": [
    {
     "name": "stdout",
     "output_type": "stream",
     "text": [
      "Derivada del Hamiltoniano respecto a u:\n",
      "-L - 2⋅u(t)\n",
      "Segunda derivada del Hamiltoniano respecto a u:\n",
      "-2\n",
      "\n",
      "Derivada del Hamiltoniano respecto a V:\n",
      "-2⋅V(t)\n",
      "\n",
      "Derivada del Hamiltoniano respecto a L:\n",
      "                                              0.001⋅t                          ↪\n",
      "- (308.8465 - 124.1845⋅cos(2⋅π⋅t - 81.9441))⋅ℯ        + (118.901⋅sin(2⋅π⋅t + 1 ↪\n",
      "\n",
      "↪                        -0.006⋅t       \n",
      "↪ 044.4751) + 440.4874)⋅ℯ         - u(t)\n"
     ]
    }
   ],
   "source": [
    "import sympy as sp\n",
    "\n",
    "# Definir variables simbólicas\n",
    "t = sp.symbols('t')\n",
    "u = sp.Function('u')(t)\n",
    "V = sp.Function('V')(t)\n",
    "L = sp.symbols('L')\n",
    "a_rell = 118.9010  # Amplitud de relleno\n",
    "delta_rell = 1044.4751  # Desfase de relleno\n",
    "r_rell = 440.4874  # Tasa de relleno\n",
    "dec_prec = 0.006  # Decremento de precipitación\n",
    "\n",
    "# Evaporación\n",
    "a_ev = 124.1845  # Amplitud de evaporación\n",
    "delta_ev = -81.9441  # Desfase de evaporación\n",
    "r_ev = 308.8465  # Tasa de evaporación\n",
    "inc_ev = 0.001 # Incremento de evaporación\n",
    "\n",
    "# Función f(t): Parte no homogénea\n",
    "evaporation = (r_ev + a_ev * (-sp.cos(2 * sp.pi * t + delta_ev))) * sp.exp(inc_ev * t)\n",
    "inflow = (r_rell + a_rell * sp.sin(2 * sp.pi * t + delta_rell)) * sp.exp(-dec_prec * t)\n",
    "condition = -u - evaporation + inflow\n",
    "\n",
    "# Definir el Hamiltoniano\n",
    "H = -u**2 - V**2 + L * condition\n",
    "\n",
    "# Calcular derivadas del Hamiltoniano\n",
    "dH_du = sp.diff(H, u)  # Derivada respecto a u\n",
    "dH_dV = sp.diff(H, V)  # Derivada respecto a V\n",
    "dH_dL = sp.diff(H, L)  # Derivada respecto a L (lambda)\n",
    "# segunda derivada de u\n",
    "dH_du2 = sp.diff(dH_du, u)\n",
    "\n",
    "# Mostrar las derivadas\n",
    "print(\"Derivada del Hamiltoniano respecto a u:\")\n",
    "sp.pprint(dH_du)\n",
    "\n",
    "print(\"Segunda derivada del Hamiltoniano respecto a u:\")\n",
    "sp.pprint(dH_du2)\n",
    "\n",
    "print(\"\\nDerivada del Hamiltoniano respecto a V:\")\n",
    "sp.pprint(dH_dV)\n",
    "\n",
    "print(\"\\nDerivada del Hamiltoniano respecto a L:\")\n",
    "sp.pprint(dH_dL)\n"
   ]
  },
  {
   "cell_type": "code",
   "execution_count": 3,
   "metadata": {},
   "outputs": [
    {
     "name": "stdout",
     "output_type": "stream",
     "text": [
      "\n",
      "Derivada del Hamiltoniano respecto a V:\n"
     ]
    },
    {
     "data": {
      "text/latex": [
       "$\\displaystyle - 2 V{\\left(t \\right)}$"
      ],
      "text/plain": [
       "-2*V(t)"
      ]
     },
     "execution_count": 3,
     "metadata": {},
     "output_type": "execute_result"
    }
   ],
   "source": [
    "print(\"\\nDerivada del Hamiltoniano respecto a V:\")\n",
    "dH_dV\n"
   ]
  },
  {
   "cell_type": "code",
   "execution_count": 4,
   "metadata": {},
   "outputs": [
    {
     "name": "stdout",
     "output_type": "stream",
     "text": [
      "\n",
      "Derivada del Hamiltoniano respecto a L:\n"
     ]
    },
    {
     "data": {
      "text/latex": [
       "$\\displaystyle - \\left(308.8465 - 124.1845 \\cos{\\left(2 \\pi t - 81.9441 \\right)}\\right) e^{0.001 t} + \\left(118.901 \\sin{\\left(2 \\pi t + 1044.4751 \\right)} + 440.4874\\right) e^{- 0.006 t} - u{\\left(t \\right)}$"
      ],
      "text/plain": [
       "-(308.8465 - 124.1845*cos(2*pi*t - 81.9441))*exp(0.001*t) + (118.901*sin(2*pi*t + 1044.4751) + 440.4874)*exp(-0.006*t) - u(t)"
      ]
     },
     "execution_count": 4,
     "metadata": {},
     "output_type": "execute_result"
    }
   ],
   "source": [
    "print(\"\\nDerivada del Hamiltoniano respecto a L:\")\n",
    "(dH_dL)\n"
   ]
  },
  {
   "cell_type": "code",
   "execution_count": 5,
   "metadata": {},
   "outputs": [
    {
     "name": "stdout",
     "output_type": "stream",
     "text": [
      "\n",
      "Derivada del Hamiltoniano respecto a L:\n"
     ]
    },
    {
     "data": {
      "text/latex": [
       "$\\displaystyle - \\left(308.8465 - 124.1845 \\cos{\\left(2 \\pi t - 81.9441 \\right)}\\right) e^{0.001 t} + \\left(118.901 \\sin{\\left(2 \\pi t + 1044.4751 \\right)} + 440.4874\\right) e^{- 0.006 t} - u{\\left(t \\right)}$"
      ],
      "text/plain": [
       "-(308.8465 - 124.1845*cos(2*pi*t - 81.9441))*exp(0.001*t) + (118.901*sin(2*pi*t + 1044.4751) + 440.4874)*exp(-0.006*t) - u(t)"
      ]
     },
     "execution_count": 5,
     "metadata": {},
     "output_type": "execute_result"
    }
   ],
   "source": [
    "print(\"\\nDerivada del Hamiltoniano respecto a L:\")\n",
    "(dH_dL)\n"
   ]
  },
  {
   "cell_type": "code",
   "execution_count": 6,
   "metadata": {},
   "outputs": [
    {
     "name": "stdout",
     "output_type": "stream",
     "text": [
      "\n",
      "L' = 2*V(t)\n",
      "\n",
      "V' = -(308.8465 - 124.1845*cos(2*pi*t - 81.9441))*exp(0.001*t) + (118.901*sin(2*pi*t + 1044.4751) + 440.4874)*exp(-0.006*t) - u(t)\n"
     ]
    }
   ],
   "source": [
    "# igualar -L' = dH_dV\n",
    "L_prime = -dH_dV\n",
    "print(\"\\nL' =\", L_prime)\n",
    "\n",
    "# igualar V' = dH_dL\n",
    "V_prime = dH_dL\n",
    "print(\"\\nV' =\", V_prime)\n",
    "\n"
   ]
  },
  {
   "cell_type": "code",
   "execution_count": null,
   "metadata": {},
   "outputs": [
    {
     "name": "stdout",
     "output_type": "stream",
     "text": [
      "Resultado numérico de la integral: -399922.5062\n",
      "Error estimado: 2.3227e-04\n"
     ]
    }
   ],
   "source": [
    "from sympy import symbols, Function, Eq, dsolve, exp, sin, cos, pi, lambdify\n",
    "from scipy.integrate import quad\n",
    "# importar N para convertir a números\n",
    "from sympy import N\n",
    "\n",
    "\n",
    "# Definir las variables y funciones\n",
    "t = symbols('t')  # Variable independiente\n",
    "V = Function('V')(t)  # Función dependiente V(t)\n",
    "L = Function('L')(t)  # Función dependiente L(t)\n",
    "U = Function('U')(t)  # Función dependiente U(t)\n",
    "\n",
    "a_rell = 118.9010  # Amplitud de relleno\n",
    "delta_rell = 1044.4751  # Desfase de relleno\n",
    "r_rell = 440.4874  # Tasa de relleno\n",
    "dec_prec = 0.0060  # Decremento de precipitación\n",
    "\n",
    "# Evaporación\n",
    "a_ev = 124.1845  # Amplitud de evaporación\n",
    "delta_ev = -81.9441  # Desfase de evaporación\n",
    "r_ev = 308.8465  # Tasa de evaporación\n",
    "inc_ev = 0.0010  # Incremento de evaporación\n",
    "\n",
    "# Definir la función f(t) (parte no homogénea)\n",
    "f_t = (r_ev + a_ev * (-cos(2 * pi * t + delta_ev))) * exp(inc_ev * t) \\\n",
    "    - (r_rell + a_rell * sin(2 * pi * t + delta_rell)) * exp(-dec_prec * t)\n",
    "\n",
    "# Plantear las ecuaciones diferenciales\n",
    "eq1 = Eq(V.diff(t, 1), L / 2 - f_t)  # Ecuación para V'\n",
    "eq2 = Eq(L.diff(t, 1), 2 * V)  # Ecuación para L'\n",
    "\n",
    "# Resolver el sistema de ecuaciones diferenciales con condiciones iniciales\n",
    "solution = dsolve([eq1, eq2], ics={V.subs(t, 0): 343.88, V.subs(t, 10): 328})\n",
    "\n",
    "# Extraer las soluciones de V(t) y L(t)\n",
    "V_solution = (solution[0].rhs)  # Solución para V(t)\n",
    "L_solution = (solution[1].rhs)  # Solución para L(t)\n",
    "\n",
    "# Definir u en función de L\n",
    "u_solution = L_solution / (-2)\n",
    "\n",
    "# Convertir soluciones simbólicas a funciones numéricas\n",
    "V_numeric = lambdify(t, V_solution, modules=[\"numpy\"])\n",
    "L_numeric = lambdify(t, L_solution, modules=[\"numpy\"])\n",
    "u_numeric = lambdify(t, u_solution, modules=[\"numpy\"])\n",
    "\n",
    "# Definir la función integranda numérica\n",
    "def integrand_numeric(t):\n",
    "    return -(u_numeric(t))**2 -V_numeric(t)**2\n",
    "\n",
    "# Calcular la integral numérica con quad\n",
    "integral_result_numeric, error = quad(integrand_numeric, 0, 10)\n",
    "\n",
    "# Mostrar el resultado\n",
    "print(f\"Resultado numérico de la integral: {integral_result_numeric:.4f}\")\n",
    "print(f\"Error estimado: {error:.4e}\")\n"
   ]
  },
  {
   "cell_type": "code",
   "execution_count": 23,
   "metadata": {},
   "outputs": [
    {
     "name": "stdout",
     "output_type": "stream",
     "text": [
      "V: 0.0150756956165211/exp(-1.0*t)**1.0 - 1.47706922684521*exp(-1.006*t)*sin(6.28318530717959*t + 1044.4751)/exp(-1.0*t)**1.0 - 9.22534757833094*exp(-1.006*t)*cos(6.28318530717959*t + 1044.4751)/exp(-1.0*t)**1.0 - 218.930119284294*exp(-1.006*t)/exp(-1.0*t)**1.0 + 9.63862728822856*exp(-0.999*t)*sin(6.28318530717959*t - 81.9441)/exp(-1.0*t)**1.0 - 1.53250114236446*exp(-0.999*t)*cos(6.28318530717959*t - 81.9441)/exp(-1.0*t)**1.0 + 154.577827827828*exp(-0.999*t)/exp(-1.0*t)**1.0 + 9.63767486455108*exp(0.00099999999999989*t)*sin(6.28318530717959*t - 81.9441) + 1.53541747820042*exp(0.00099999999999989*t)*cos(6.28318530717959*t - 81.9441) - 154.268981018981*exp(0.00099999999999989*t) + 347.856955110542*exp(-1.0*t) + 1.46031568710624*exp(-0.00600000000000001*t)*sin(6.28318530717959*t + 1044.4751) - 9.23081898296759*exp(-0.00600000000000001*t)*cos(6.28318530717959*t + 1044.4751) + 221.573138832998*exp(-0.00600000000000001*t)\n",
      "L: 0.0301513912330423/exp(-1.0*t)**1.0 - 2.95413845369042*exp(-1.006*t)*sin(6.28318530717959*t + 1044.4751)/exp(-1.0*t)**1.0 - 18.4506951566619*exp(-1.006*t)*cos(6.28318530717959*t + 1044.4751)/exp(-1.0*t)**1.0 - 437.860238568588*exp(-1.006*t)/exp(-1.0*t)**1.0 + 19.2772545764571*exp(-0.999*t)*sin(6.28318530717959*t - 81.9441)/exp(-1.0*t)**1.0 - 3.06500228472893*exp(-0.999*t)*cos(6.28318530717959*t - 81.9441)/exp(-1.0*t)**1.0 + 309.155655655656*exp(-0.999*t)/exp(-1.0*t)**1.0 - 19.2753497291022*exp(0.00099999999999989*t)*sin(6.28318530717959*t - 81.9441) - 3.07083495640085*exp(0.00099999999999989*t)*cos(6.28318530717959*t - 81.9441) + 308.537962037962*exp(0.00099999999999989*t) - 695.713910221084*exp(-1.0*t) - 2.92063137421248*exp(-0.00600000000000001*t)*sin(6.28318530717959*t + 1044.4751) + 18.4616379659352*exp(-0.00600000000000001*t)*cos(6.28318530717959*t + 1044.4751) - 443.146277665996*exp(-0.00600000000000001*t)\n",
      "u: -0.0150756956165211/exp(-1.0*t)**1.0 + 1.47706922684521*exp(-1.006*t)*sin(6.28318530717959*t + 1044.4751)/exp(-1.0*t)**1.0 + 9.22534757833094*exp(-1.006*t)*cos(6.28318530717959*t + 1044.4751)/exp(-1.0*t)**1.0 + 218.930119284294*exp(-1.006*t)/exp(-1.0*t)**1.0 - 9.63862728822856*exp(-0.999*t)*sin(6.28318530717959*t - 81.9441)/exp(-1.0*t)**1.0 + 1.53250114236446*exp(-0.999*t)*cos(6.28318530717959*t - 81.9441)/exp(-1.0*t)**1.0 - 154.577827827828*exp(-0.999*t)/exp(-1.0*t)**1.0 + 9.63767486455108*exp(0.00099999999999989*t)*sin(6.28318530717959*t - 81.9441) + 1.53541747820042*exp(0.00099999999999989*t)*cos(6.28318530717959*t - 81.9441) - 154.268981018981*exp(0.00099999999999989*t) + 347.856955110542*exp(-1.0*t) + 1.46031568710624*exp(-0.00600000000000001*t)*sin(6.28318530717959*t + 1044.4751) - 9.23081898296759*exp(-0.00600000000000001*t)*cos(6.28318530717959*t + 1044.4751) + 221.573138832998*exp(-0.00600000000000001*t)\n"
     ]
    }
   ],
   "source": [
    "print(\"V:\",N(V_solution))\n",
    "print(\"L:\",N(L_solution))\n",
    "print(\"u:\",N(u_solution))"
   ]
  }
 ],
 "metadata": {
  "kernelspec": {
   "display_name": "Python 3",
   "language": "python",
   "name": "python3"
  },
  "language_info": {
   "codemirror_mode": {
    "name": "ipython",
    "version": 3
   },
   "file_extension": ".py",
   "mimetype": "text/x-python",
   "name": "python",
   "nbconvert_exporter": "python",
   "pygments_lexer": "ipython3",
   "version": "3.12.1"
  }
 },
 "nbformat": 4,
 "nbformat_minor": 2
}
